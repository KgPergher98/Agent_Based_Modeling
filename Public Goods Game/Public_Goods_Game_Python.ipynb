{
 "cells": [
  {
   "cell_type": "code",
   "execution_count": 76,
   "metadata": {},
   "outputs": [],
   "source": [
    "import matplotlib.pyplot as plt\n",
    "from matplotlib import colors as c\n",
    "import numpy as np\n",
    "import random\n"
   ]
  },
  {
   "cell_type": "markdown",
   "metadata": {},
   "source": [
    "# Public Goods Game - A Prisoner's Dilemma Approach"
   ]
  },
  {
   "cell_type": "code",
   "execution_count": 82,
   "metadata": {},
   "outputs": [],
   "source": [
    "class PublicGoodsModel():\n",
    "    \n",
    "    def plot_grid_richness(self):\n",
    "        plot_grid_revenue = np.zeros((self.width, self.height),dtype=np.float64) \n",
    "        for x in range(self.width):\n",
    "            for y in range(self.height):\n",
    "                plot_grid_revenue[x][y] = self.grid[x][y].status\n",
    "        x = np.arange(self.width + 1)\n",
    "        y = np.arange(self.height + 1)\n",
    "        fig, ax = plt.subplots()\n",
    "        ax.set_title('Richness')\n",
    "        cMap = c.ListedColormap(['r','b'])\n",
    "        ax.pcolormesh(x, y, plot_grid_revenue, shading='flat', vmin=0, vmax=1, cmap=cMap)\n",
    "        \n",
    "    def plot_grid_strategy(self):\n",
    "        plot_grid_strat = np.zeros((self.width, self.height),dtype=np.float64)\n",
    "        for x in range(self.width):\n",
    "            for y in range(self.height):\n",
    "                plot_grid_strat[x][y] = self.grid[x][y].strategy\n",
    "        x = np.arange(self.width + 1)\n",
    "        y = np.arange(self.height + 1)\n",
    "        fig, ax = plt.subplots()\n",
    "        ax.set_title('Cooperation')\n",
    "        cMap = c.ListedColormap(['r','b'])\n",
    "        ax.pcolormesh(x, y, plot_grid_strat, shading='flat', vmin=0, vmax=1, cmap=cMap)\n",
    "        \n",
    "    def __init__(self, density, width, height, r_factor, density_def, richness_rate, R1=1, R2=1):\n",
    "        self.grid = np.zeros((width, height),dtype=EconomicAgent)\n",
    "        self.width, self.height = width, height\n",
    "        self.r_factor, self.R1, self.R2 = r_factor, R1, R2\n",
    "        self.b_pay = 2/self.r_factor\n",
    "        self.c_pay = (R2-R1)/R1\n",
    "        self.defectors, self.cooperators = np.array([]), np.array([])\n",
    "        ag_id, self.N = 0, 0\n",
    "        self.agents = []\n",
    "        PublicGoodsModel.create_payoff_matrix(self)\n",
    "        for x in range(self.width):\n",
    "            for y in range(self.height):\n",
    "                fate = random.uniform(0,1)\n",
    "                coop_defect = random.uniform(0,1)\n",
    "                if fate <= richness_rate:\n",
    "                    fate = 0 # Poor Agent\n",
    "                else:\n",
    "                    fate = 1 # Rich Agent\n",
    "                if coop_defect <= density_def:\n",
    "                    coop_defect = 0 # Defector\n",
    "                else:\n",
    "                    coop_defect = 1 # Cooperator\n",
    "                if density >= random.uniform(0,1):\n",
    "                    ag = EconomicAgent(ag_id, coop_defect, fate, True)\n",
    "                    ag.set_coord(x,y)\n",
    "                    self.agents.append(ag)\n",
    "                    self.grid[x][y] = ag\n",
    "                    ag_id += 1\n",
    "                    self.N += 1\n",
    "                else:\n",
    "                    ag = EconomicAgent(ag_id, coop_defect, fate, False)\n",
    "                    ag.set_coord(x,y)\n",
    "                    self.agents.append(ag)\n",
    "                    self.grid[x][y] = ag\n",
    "                    ag_id += 1\n",
    "                    \n",
    "    def get_neighbors(self, x, y, x_thresh=0, y_tresh=0):\n",
    "        if type(x)==int and type(y)==int:\n",
    "            # Horizontal Neighbors\n",
    "            if x == self.width-1:\n",
    "                right_neighbor = [0, y]\n",
    "                left_neighbor = [x-1, y]\n",
    "            elif x == 0:\n",
    "                right_neighbor = [x+1, y]\n",
    "                left_neighbor = [self.width-1, y]\n",
    "            else:\n",
    "                right_neighbor = [x+1, y]\n",
    "                left_neighbor = [x-1, y]\n",
    "            # Vertical Neighbors\n",
    "            if y == self.height-1:\n",
    "                upper_neighbor = [x, 0]\n",
    "                lower_neighbor = [x, y-1]\n",
    "            elif y == 0:\n",
    "                upper_neighbor = [x, y+1]\n",
    "                lower_neighbor = [x, self.height-1]\n",
    "            else:\n",
    "                upper_neighbor = [x, y+1]\n",
    "                lower_neighbor = [x, y-1]\n",
    "            # Clockwise direction \n",
    "            return upper_neighbor, right_neighbor, lower_neighbor, left_neighbor\n",
    "        else:\n",
    "            return None\n",
    "        \n",
    "    def create_payoff_matrix(self):\n",
    "        self.payoff_m = np.zeros((4, 4),dtype=np.float64)\n",
    "        self.payoff_m[0][0] =  (2*self.c_pay) + 1 # CC RICH-RICH 1,1,1,1\n",
    "        self.payoff_m[0][1] =  (self.c_pay)       # CD RICH-RICH 1,1,1,0\n",
    "        self.payoff_m[0][2] =  self.c_pay + 1     # CC RICH-POOR 1,0,1,1\n",
    "        self.payoff_m[0][3] =  self.c_pay         # CD RICH-POOR 1,0,1,0\n",
    "        \n",
    "        self.payoff_m[1][0] =  (self.c_pay*self.b_pay) + self.b_pay + self.c_pay # DC RICH-RICH 1,1,0,1\n",
    "        self.payoff_m[1][1] =  (self.c_pay*self.b_pay) + self.b_pay - 1          # DD RICH-RICH 1,1,0,0\n",
    "        self.payoff_m[1][2] =  (self.c_pay*self.b_pay) + self.b_pay              # DC RICH-POOR 1,0,0,1\n",
    "        self.payoff_m[1][3] =  (self.c_pay*self.b_pay) + self.b_pay - 1          # DD RICH-POOR 1,0,0,0\n",
    "        \n",
    "        self.payoff_m[2][0] =  self.c_pay + 1 # CC POOR-RICH\n",
    "        self.payoff_m[2][1] =  0              # CD POOR-RICH\n",
    "        self.payoff_m[2][2] =  1              # CC POOR-POOR\n",
    "        self.payoff_m[2][3] =  0              # CD POOR-POOR\n",
    "        \n",
    "        self.payoff_m[3][0] =  self.b_pay + self.c_pay # DC POOR-RICH\n",
    "        self.payoff_m[3][1] =  self.b_pay - 1          # DD POOR-RICH\n",
    "        self.payoff_m[3][2] =  self.b_pay              # DC POOR-POOR\n",
    "        self.payoff_m[3][3] =  self.b_pay - 1          # DD POOR-POOR\n",
    "        print(self.payoff_m)\n",
    "        \n",
    "    def payoff_position(status, strat):\n",
    "        if status: # RICH GUY\n",
    "            if strat: # NICE GUY\n",
    "                return 0\n",
    "            else: # NOT SO NICE\n",
    "                return 1\n",
    "        else:      # POOR GUY\n",
    "            if strat: # NICE GUY\n",
    "                return 2\n",
    "            else: # NOT SO NICE\n",
    "                return 3\n",
    "        \n",
    "    def payoff_matrix(self, status_one, status_two, strat_one, strat_two):\n",
    "        return self.payoff_m[PublicGoodsModel.payoff_position(status_one,strat_one)][PublicGoodsModel.payoff_position(status_two,strat_two)]\n",
    "                    \n",
    "    def change_strategy(self, neighbors_strategy, neighbors_payoffs):\n",
    "        def mutation(strat):\n",
    "            x = random.uniform(0,1)\n",
    "            if x <= 0.05:\n",
    "                if strat:\n",
    "                    return 0\n",
    "                else:\n",
    "                    return 1\n",
    "            else:\n",
    "                return strat\n",
    "        #print(neighbors_payoffs, position)\n",
    "        p, position = random.uniform(0,1), 0\n",
    "        while position < len(neighbors_payoffs):\n",
    "            if neighbors_payoffs[position] >= p:\n",
    "                return neighbors_strategy[position]\n",
    "            else:\n",
    "                position += 1\n",
    "        return mutation(neighbors_strategy[-1])\n",
    "        \n",
    "    def step(self):\n",
    "        coop, defe = 0, 0\n",
    "        for agent in self.agents:\n",
    "            agent.payoff = 0\n",
    "            x,y = agent.get_coord()\n",
    "            neighbors = PublicGoodsModel.get_neighbors(self, x, y)\n",
    "            agent_act, agent_status, agent_strat = agent.get_general_status()\n",
    "            if agent_act:\n",
    "                for neighbor in neighbors:\n",
    "                    act, status, strat = self.grid[neighbor[0]][neighbor[1]].get_general_status()\n",
    "                    if act:\n",
    "                        payoff = PublicGoodsModel.payoff_matrix(self, agent_status, status, agent_strat, strat)\n",
    "                        agent.payoff += payoff\n",
    "                        #self.grid[neighbor[0]][neighbor[1]].payoff = payoff\n",
    "        # CHANGE STRATEGY\n",
    "        for agent in self.agents:\n",
    "            x,y = agent.get_coord()\n",
    "            neighbors = PublicGoodsModel.get_neighbors(self, x, y)\n",
    "            agent_act, agent_status, agent_strat = agent.get_general_status()\n",
    "            if agent_act:\n",
    "                neighbors_payoff = []\n",
    "                neighbors_strategy = []\n",
    "                for n_agent in range(len(neighbors)):\n",
    "                    neighbor = neighbors[n_agent]\n",
    "                    act, status, strat = self.grid[neighbor[0]][neighbor[1]].get_general_status()\n",
    "                    if act:\n",
    "                        neighbors_payoff.append(self.grid[neighbor[0]][neighbor[1]].payoff)\n",
    "                        neighbors_strategy.append(self.grid[neighbor[0]][neighbor[1]].strategy)\n",
    "                        if n_agent > 0:\n",
    "                            neighbors_payoff[n_agent] += neighbors_payoff[n_agent-1]\n",
    "\n",
    "                #neighbors_payoff.append(agent.payoff)\n",
    "                if agent.payoff > 0:\n",
    "                    neighbors_payoff.append(agent.payoff+neighbors_payoff[-1])\n",
    "                    for values in range(len(neighbors_payoff)):\n",
    "                        neighbors_payoff[values] = neighbors_payoff[values]/neighbors_payoff[-1]\n",
    "                    #neighbors_payoff = neighbors_payoff/agent.payoff\n",
    "                    neighbors_strategy.append(agent_strat)\n",
    "                else:\n",
    "                    for values in range(len(neighbors_payoff)):\n",
    "                        neighbors_payoff[values] = neighbors_payoff[values]/neighbors_payoff[-1]\n",
    "                    #neighbors_payoff = neighbors_payoff/neighbors_payoff[-1]\n",
    "                agent.strategy = PublicGoodsModel.change_strategy(self, neighbors_strategy, neighbors_payoff)\n",
    "                if agent.strategy:\n",
    "                    coop += 1\n",
    "                else:\n",
    "                    defe += 1\n",
    "        self.defectors = np.append(self.defectors,values=(defe/self.N),axis=None)\n",
    "        self.cooperators = np.append(self.cooperators,values=(coop/self.N),axis=None)\n",
    "        if coop == self.N or defe == self.N:\n",
    "            return False\n",
    "        else:\n",
    "            return True\n",
    "        \n",
    "    def plot_population_strategies(self):\n",
    "        fig, ax = plt.subplots()\n",
    "        x = np.linspace(0, 1, len(self.defectors))\n",
    "        ax.set_title('Cooperators x Defectors')\n",
    "        ax.plot(x, self.cooperators, 'b')\n",
    "        ax.plot(x, self.defectors, 'r')\n"
   ]
  },
  {
   "cell_type": "code",
   "execution_count": 83,
   "metadata": {},
   "outputs": [],
   "source": [
    "class EconomicAgent():\n",
    "    \n",
    "    def set_coord(self, x, y):\n",
    "        self.x = x\n",
    "        self.y = y\n",
    "    \n",
    "    def __init__(self, ag_id, defector, condition, life=True):\n",
    "        self.id = ag_id\n",
    "        self.payoff = 0\n",
    "        if not life:\n",
    "            self.activity = False # DEAD \n",
    "        else:\n",
    "            self.activity = True # ALIVE\n",
    "            self.status = condition # RICH-POOR\n",
    "            self.strategy = defector\n",
    "            \n",
    "    def get_general_status(self):\n",
    "        if self.activity:\n",
    "            return True, self.status, self.strategy\n",
    "        else: \n",
    "            return False, None, None\n",
    "        \n",
    "    def get_coord(self):\n",
    "        return self.x, self.y"
   ]
  },
  {
   "cell_type": "code",
   "execution_count": 84,
   "metadata": {
    "scrolled": true
   },
   "outputs": [
    {
     "name": "stdout",
     "output_type": "stream",
     "text": [
      "[[3.   1.   2.   1.  ]\n",
      " [3.5  1.5  2.5  1.5 ]\n",
      " [2.   0.   1.   0.  ]\n",
      " [2.25 0.25 1.25 0.25]]\n"
     ]
    },
    {
     "data": {
      "image/png": "[encoded data removed]",
      "text/plain": [
       "<Figure size 432x288 with 1 Axes>"
      ]
     },
     "metadata": {
      "needs_background": "light"
     },
     "output_type": "display_data"
    }
   ],
   "source": [
    "model = PublicGoodsModel(density=1, width=64, height=64, r_factor=1.6, density_def=0.5, richness_rate=0.5, R1=1, R2=2)\n",
    "model.plot_grid_strategy()"
   ]
  },
  {
   "cell_type": "code",
   "execution_count": 85,
   "metadata": {},
   "outputs": [
    {
     "data": {
      "image/png": "[encoded data removed]",
      "text/plain": [
       "<Figure size 432x288 with 1 Axes>"
      ]
     },
     "metadata": {
      "needs_background": "light"
     },
     "output_type": "display_data"
    }
   ],
   "source": [
    "for x in range(200):\n",
    "    modeling = model.step()\n",
    "    if not modeling:\n",
    "        break\n",
    "model.plot_population_strategies()"
   ]
  },
  {
   "cell_type": "code",
   "execution_count": 86,
   "metadata": {},
   "outputs": [
    {
     "data": {
      "image/png": "[encoded data removed]",
      "text/plain": [
       "<Figure size 432x288 with 1 Axes>"
      ]
     },
     "metadata": {
      "needs_background": "light"
     },
     "output_type": "display_data"
    }
   ],
   "source": [
    "model.plot_grid_strategy()"
   ]
  },
  {
   "cell_type": "code",
   "execution_count": null,
   "metadata": {},
   "outputs": [],
   "source": []
  }
 ],
 "metadata": {
  "kernelspec": {
   "display_name": "Python 3",
   "language": "python",
   "name": "python3"
  },
  "language_info": {
   "codemirror_mode": {
    "name": "ipython",
    "version": 3
   },
   "file_extension": ".py",
   "mimetype": "text/x-python",
   "name": "python",
   "nbconvert_exporter": "python",
   "pygments_lexer": "ipython3",
   "version": "3.8.5"
  }
 },
 "nbformat": 4,
 "nbformat_minor": 4
}
